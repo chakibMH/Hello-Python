{
  "nbformat": 4,
  "nbformat_minor": 0,
  "metadata": {
    "colab": {
      "provenance": []
    },
    "kernelspec": {
      "name": "python3",
      "display_name": "Python 3"
    },
    "language_info": {
      "name": "python"
    }
  },
  "cells": [
    {
      "cell_type": "code",
      "source": [
        "import pandas as pd\n",
        "import numpy as np"
      ],
      "metadata": {
        "id": "OhC0faHFXBe9"
      },
      "execution_count": null,
      "outputs": []
    },
    {
      "cell_type": "markdown",
      "source": [
        "Consider the following DataFrame"
      ],
      "metadata": {
        "id": "odGQYcrHW2RF"
      }
    },
    {
      "cell_type": "code",
      "execution_count": null,
      "metadata": {
        "colab": {
          "base_uri": "https://localhost:8080/"
        },
        "id": "h6BwG0k5WLFx",
        "outputId": "fc448ccf-cdc5-4e48-b8bb-999d4ae90388"
      },
      "outputs": [
        {
          "output_type": "stream",
          "name": "stdout",
          "text": [
            "       Name  Age    Country  Gender Occupation\n",
            "0      John   32        USA    Male   Engineer\n",
            "1      Jane   28     Canada  Female     Doctor\n",
            "2       Jim   41         UK    Male    Teacher\n",
            "3   Jessica   38     France  Female     Lawyer\n",
            "4      Jack   23    Germany    Male    Student\n",
            "5      Jill   27  Australia  Female     Artist\n",
            "6       Joe   30        USA    Male   Engineer\n",
            "7    Jordan   26     Canada  Female     Doctor\n",
            "8     Julia   35         UK    Male    Teacher\n",
            "9     James   40     France  Female     Lawyer\n",
            "10  Johnnie   28    Germany    Male    Student\n",
            "11    Jenna   29  Australia  Female     Artist\n",
            "12  Jasmine   31        USA    Male   Engineer\n",
            "13    Jerry   33     Canada  Female     Doctor\n",
            "14     Joel   36         UK    Male    Teacher\n",
            "15     Jade   27     France  Female     Lawyer\n",
            "16    Janet   32    Germany    Male    Student\n",
            "17   Joanna   31  Australia  Female     Artist\n",
            "18   Jackie   25        USA    Male   Engineer\n"
          ]
        }
      ],
      "source": [
        "df = pd.DataFrame({\n",
        "    \"Name\": [\"John\", \"Jane\", \"Jim\", \"Jessica\", \"Jack\", \"Jill\", \"Joe\", \"Jordan\", \"Julia\", \"James\", \"Johnnie\", \"Jenna\", \"Jasmine\", \"Jerry\", \"Joel\", \"Jade\", \"Janet\", \"Joanna\", \"Jackie\"],\n",
        "    \"Age\": [32, 28, 41, 38, 23, 27, 30, 26, 35, 40, 28, 29, 31, 33, 36, 27, 32, 31, 25],\n",
        "    \"Country\": [\"USA\", \"Canada\", \"UK\", \"France\", \"Germany\", \"Australia\", \"USA\", \"Canada\", \"UK\", \"France\", \"Germany\", \"Australia\", \"USA\", \"Canada\", \"UK\", \"France\", \"Germany\", \"Australia\", \"USA\"],\n",
        "    \"Gender\": [\"Male\", \"Female\", \"Male\", \"Female\", \"Male\", \"Female\", \"Male\", \"Female\", \"Male\", \"Female\", \"Male\", \"Female\", \"Male\", \"Female\", \"Male\", \"Female\", \"Male\", \"Female\", \"Male\"],\n",
        "    \"Occupation\": [\"Engineer\", \"Doctor\", \"Teacher\", \"Lawyer\", \"Student\", \"Artist\", \"Engineer\", \"Doctor\", \"Teacher\", \"Lawyer\", \"Student\", \"Artist\", \"Engineer\", \"Doctor\", \"Teacher\", \"Lawyer\", \"Student\", \"Artist\", \"Engineer\"]\n",
        "})\n",
        "print(df)"
      ]
    },
    {
      "cell_type": "markdown",
      "source": [
        "**Some data exploration :**"
      ],
      "metadata": {
        "id": "Rj6BTBakXKEW"
      }
    },
    {
      "cell_type": "markdown",
      "source": [
        "when dealing with large dataset (much more larger than this one), it is usefull to get a brand idea on how the data is, by showing the first 5 (df.head()) or 10 rows (df.head(10))"
      ],
      "metadata": {
        "id": "OniAlKZfdsZW"
      }
    },
    {
      "cell_type": "code",
      "source": [
        "# default value to show is 5\n",
        "print(df.head())"
      ],
      "metadata": {
        "colab": {
          "base_uri": "https://localhost:8080/"
        },
        "id": "9GTV85m-do2e",
        "outputId": "e3eed88a-ebdc-4835-f7bb-9cebc387dfff"
      },
      "execution_count": null,
      "outputs": [
        {
          "output_type": "stream",
          "name": "stdout",
          "text": [
            "      Name  Age  Country  Gender Occupation\n",
            "0     John   32      USA    Male   Engineer\n",
            "1     Jane   28   Canada  Female     Doctor\n",
            "2      Jim   41       UK    Male    Teacher\n",
            "3  Jessica   38   France  Female     Lawyer\n",
            "4     Jack   23  Germany    Male    Student\n"
          ]
        }
      ]
    },
    {
      "cell_type": "markdown",
      "source": [
        "Similar to the head method, the tail method is used to display rows starting from the last one"
      ],
      "metadata": {
        "id": "GnA4ZPLTeNvz"
      }
    },
    {
      "cell_type": "code",
      "source": [
        "print(df.tail(5))"
      ],
      "metadata": {
        "colab": {
          "base_uri": "https://localhost:8080/"
        },
        "id": "hRxUVpmHeXGM",
        "outputId": "d198aa61-01d5-4053-9fb7-63b32547e512"
      },
      "execution_count": null,
      "outputs": [
        {
          "output_type": "stream",
          "name": "stdout",
          "text": [
            "      Name  Age    Country  Gender Occupation\n",
            "14    Joel   36         UK    Male    Teacher\n",
            "15    Jade   27     France  Female     Lawyer\n",
            "16   Janet   32    Germany    Male    Student\n",
            "17  Joanna   31  Australia  Female     Artist\n",
            "18  Jackie   25        USA    Male   Engineer\n"
          ]
        }
      ]
    },
    {
      "cell_type": "markdown",
      "source": [
        "The describe method gives us statistics on columns with numerical values"
      ],
      "metadata": {
        "id": "w8l4r9T_ehEa"
      }
    },
    {
      "cell_type": "code",
      "source": [
        "print(df.describe())"
      ],
      "metadata": {
        "colab": {
          "base_uri": "https://localhost:8080/"
        },
        "id": "zZfNapdUedqG",
        "outputId": "15371a4b-d2a4-41ae-f2e1-cb77beb3bd0b"
      },
      "execution_count": null,
      "outputs": [
        {
          "output_type": "stream",
          "name": "stdout",
          "text": [
            "             Age\n",
            "count  19.000000\n",
            "mean   31.157895\n",
            "std     5.036127\n",
            "min    23.000000\n",
            "25%    27.500000\n",
            "50%    31.000000\n",
            "75%    34.000000\n",
            "max    41.000000\n"
          ]
        }
      ]
    },
    {
      "cell_type": "markdown",
      "source": [
        "The value_counts method returns the frequency of each unique value in a Pandas series. This method is useful when you want to understand the distribution of the data."
      ],
      "metadata": {
        "id": "Ds9rDecNgZ0b"
      }
    },
    {
      "cell_type": "markdown",
      "source": [
        "We use shape in order to get the number of columns and rows"
      ],
      "metadata": {
        "id": "KYIyXPtRgASA"
      }
    },
    {
      "cell_type": "code",
      "source": [
        "print(df.shape)"
      ],
      "metadata": {
        "colab": {
          "base_uri": "https://localhost:8080/"
        },
        "id": "T6v7NY_1W9AP",
        "outputId": "992fa48f-0d83-497e-972a-670cfd3f7b23"
      },
      "execution_count": null,
      "outputs": [
        {
          "output_type": "stream",
          "name": "stdout",
          "text": [
            "(19, 5)\n"
          ]
        }
      ]
    },
    {
      "cell_type": "markdown",
      "source": [
        "Our data set contains 19 rows and 5 columns"
      ],
      "metadata": {
        "id": "sgGLKaUyXOcF"
      }
    },
    {
      "cell_type": "markdown",
      "source": [
        "The info() method in a Pandas DataFrame is useful for getting a summary of the data. It provides information about:\n",
        "\n",
        "\n",
        "* the number of entries in each column, \n",
        "* the data type of each column, \n",
        "* the number of non-null values, \n",
        "* and the memory usage of the DataFrame. \n",
        "\n",
        "This information can be useful in understanding the structure of the data and identifying potential issues, such as missing values, inconsistent data types, or large memory usage. \n",
        "\n",
        "With the info() method, you can quickly get a high-level view of the DataFrame without having to manually inspect each column individually.\n",
        "\n",
        "**NOTE: df.info() is different from df.info, without the '()'**"
      ],
      "metadata": {
        "id": "SXYlQ9YoXgor"
      }
    },
    {
      "cell_type": "code",
      "source": [
        "df.info()"
      ],
      "metadata": {
        "colab": {
          "base_uri": "https://localhost:8080/"
        },
        "id": "RcX7YHRSXNFT",
        "outputId": "96891b75-0f22-44c7-9376-ad9908fa9f41"
      },
      "execution_count": null,
      "outputs": [
        {
          "output_type": "stream",
          "name": "stdout",
          "text": [
            "<class 'pandas.core.frame.DataFrame'>\n",
            "RangeIndex: 19 entries, 0 to 18\n",
            "Data columns (total 5 columns):\n",
            " #   Column      Non-Null Count  Dtype \n",
            "---  ------      --------------  ----- \n",
            " 0   Name        19 non-null     object\n",
            " 1   Age         19 non-null     int64 \n",
            " 2   Country     19 non-null     object\n",
            " 3   Gender      19 non-null     object\n",
            " 4   Occupation  19 non-null     object\n",
            "dtypes: int64(1), object(4)\n",
            "memory usage: 888.0+ bytes\n"
          ]
        }
      ]
    },
    {
      "cell_type": "markdown",
      "source": [
        "As we can notice we do not have any missing values in our data set: we know that because we already know that we have 19 rows, and as the info() method shows us, in every column we have 19 non-null values"
      ],
      "metadata": {
        "id": "32vBTDKkYBZ0"
      }
    },
    {
      "cell_type": "markdown",
      "source": [
        "**Questions:**"
      ],
      "metadata": {
        "id": "3PeXcHCIa9iY"
      }
    },
    {
      "cell_type": "markdown",
      "source": [
        "Use the loc method to access the 'Age' column for 'Jessica'"
      ],
      "metadata": {
        "id": "A51IzEJ8bxUh"
      }
    },
    {
      "cell_type": "code",
      "source": [],
      "metadata": {
        "id": "Dog1Ra2xbyef"
      },
      "execution_count": null,
      "outputs": []
    },
    {
      "cell_type": "markdown",
      "source": [
        "Use the loc method to access the record for 'Jane'"
      ],
      "metadata": {
        "id": "v-OBT5Jzb02f"
      }
    },
    {
      "cell_type": "code",
      "source": [],
      "metadata": {
        "id": "htGSpJyzb1s4"
      },
      "execution_count": null,
      "outputs": []
    },
    {
      "cell_type": "markdown",
      "source": [
        "Use the loc method to access the records for all individuals whose Age is greater than or equal to 30"
      ],
      "metadata": {
        "id": "LiVoEbtkbIGA"
      }
    },
    {
      "cell_type": "code",
      "source": [],
      "metadata": {
        "id": "K1Bq3SDGXSUQ"
      },
      "execution_count": null,
      "outputs": []
    },
    {
      "cell_type": "markdown",
      "source": [
        "Use the loc method to access the records for all females"
      ],
      "metadata": {
        "id": "WnoTgws9bqwT"
      }
    },
    {
      "cell_type": "code",
      "source": [],
      "metadata": {
        "id": "6RD5qi4Kbr2k"
      },
      "execution_count": null,
      "outputs": []
    },
    {
      "cell_type": "markdown",
      "source": [
        "Use the iloc method to access the records for all individuals whose Country is 'Canada' or 'France'"
      ],
      "metadata": {
        "id": "ZboCHwU9bJgD"
      }
    },
    {
      "cell_type": "code",
      "source": [],
      "metadata": {
        "id": "zSYNwppTbOdA"
      },
      "execution_count": null,
      "outputs": []
    },
    {
      "cell_type": "markdown",
      "source": [
        "same previous question, but  show only the first and last columns"
      ],
      "metadata": {
        "id": "BYEejYf9c2kd"
      }
    },
    {
      "cell_type": "code",
      "source": [],
      "metadata": {
        "id": "OEln8aWbdGcY"
      },
      "execution_count": null,
      "outputs": []
    },
    {
      "cell_type": "markdown",
      "source": [
        "Use the loc method to access the 'Name' and 'Age' columns for all individuals whose Country is not 'USA'"
      ],
      "metadata": {
        "id": "L-EInD5hbO-n"
      }
    },
    {
      "cell_type": "code",
      "source": [],
      "metadata": {
        "id": "1lsyRWiKbUDo"
      },
      "execution_count": null,
      "outputs": []
    },
    {
      "cell_type": "markdown",
      "source": [
        "Use the iloc method to access the last two columns for all individuals whose Age is between 30 and 32 (inclusive)."
      ],
      "metadata": {
        "id": "qqqZjQ_VbUiA"
      }
    },
    {
      "cell_type": "code",
      "source": [],
      "metadata": {
        "id": "fNDs_TiWbXXF"
      },
      "execution_count": null,
      "outputs": []
    },
    {
      "cell_type": "markdown",
      "source": [
        "Use the loc method to access the 'Occupation' column for people who are older than 30 and are from the USA"
      ],
      "metadata": {
        "id": "9DTFoeo5bj_l"
      }
    },
    {
      "cell_type": "code",
      "source": [],
      "metadata": {
        "id": "e0BtfmsrbkqK"
      },
      "execution_count": null,
      "outputs": []
    },
    {
      "cell_type": "markdown",
      "source": [
        "Use the iloc method to access the 'Gender' column for the last three records"
      ],
      "metadata": {
        "id": "LsKgOVz7dPSs"
      }
    },
    {
      "cell_type": "code",
      "source": [],
      "metadata": {
        "id": "LnzP0iGtdPrf"
      },
      "execution_count": null,
      "outputs": []
    }
  ]
}